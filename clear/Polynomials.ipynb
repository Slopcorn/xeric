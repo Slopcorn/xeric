{
 "cells": [
  {
   "cell_type": "markdown",
   "metadata": {},
   "source": [
    "### Optimizing polynomials with strange ways\n",
    "\n",
    "Author: Raido Everest"
   ]
  },
  {
   "cell_type": "code",
   "execution_count": null,
   "metadata": {},
   "outputs": [],
   "source": [
    "# Scipy minimize appears to work locally - depending on the starting point, we may arrive\n",
    "# at a different end position. This might bias end results toward methods that initialize\n",
    "# in many different places, but I highly doubt it makes much of a difference here.\n",
    "\n",
    "import random\n",
    "import numpy as np\n",
    "from scipy.optimize import minimize  # checking goodness of result compared to scipy"
   ]
  },
  {
   "cell_type": "code",
   "execution_count": null,
   "metadata": {},
   "outputs": [],
   "source": [
    "# Function to generate functions to test on\n",
    "def quartic():\n",
    "    # default ranges for variables too\n",
    "    a, b = random.random() * 4.9 + 0.1, random.random() * 10 - 5\n",
    "    c, d = random.random() * 40 - 20, random.random() * 500 - 250\n",
    "    \n",
    "    return lambda x: a * x**4 + b * x**3 + c * x**2 + d * x\n",
    "\n",
    "# Making an nd-quartic function to test higher dimensionalities.\n",
    "# For the sake of generality, this should be used for the single variable case as well.\n",
    "# n - how many inputs the function takes\n",
    "# outputs the sum of n random quartic functions\n",
    "def quartic_n(n):\n",
    "    fs = [quartic() for _ in range(n)]\n",
    "    return lambda answers: sum(map(lambda pair: pair[0](pair[1]), zip(fs, answers)))\n",
    "\n",
    "# Example scipy optimization of a 4d quartic function:\n",
    "# minimize(quartic_n(4), (0,0,0,0))"
   ]
  },
  {
   "cell_type": "markdown",
   "metadata": {},
   "source": [
    "### Differential Evolution"
   ]
  },
  {
   "cell_type": "code",
   "execution_count": null,
   "metadata": {},
   "outputs": [],
   "source": [
    "# The main function that returns the best set of inputs it finds.\n",
    "# f - the function.\n",
    "# n - input dimensionality\n",
    "# k - population size\n",
    "# scaling - the scaling parameter when creating a new input set\n",
    "# loops   - how many loops it will do before giving up finding a better solution\n",
    "# Outputs the minimum value of the function that it found and the necessary input for it\n",
    "def diff_evo(f, n, k = 100, scaling = 0.5, loops=25):\n",
    "    # Create initial input set\n",
    "    pop       = create_population(n, k)\n",
    "    fitnesses = calculate_fitness(f, pop)\n",
    "    best, bestval = getbest(pop, fitnesses)   # pair of best input and its index\n",
    "    \n",
    "    loops_since_improvement = 0  # Keep it going until it's not working anymore.\n",
    "    while loops_since_improvement < loops:\n",
    "        loops_since_improvement += 1\n",
    "        \n",
    "        # Create next population by mutating previous one\n",
    "        newpop       = create_next_population(pop, scaling)\n",
    "        newfitnesses = calculate_fitness(f, newpop)\n",
    "        nextbest, nextbestval = getbest(newpop, newfitnesses)\n",
    "        \n",
    "        # Keep track of what the best outcome is\n",
    "        if nextbestval < bestval:\n",
    "            best, bestval = nextbest, nextbestval\n",
    "            loops_since_improvement = 0\n",
    "        \n",
    "        # Always choose the better one of the two choices to represent the 'next generation'\n",
    "        for i in range(k):\n",
    "            if newfitnesses[i] < fitnesses[i]:  # if something must be changed\n",
    "                pop[i], fitnesses[i] = newpop[i], newfitnesses[i]\n",
    "    \n",
    "    # Return the best value and its inputs\n",
    "    return bestval, best\n",
    "\n",
    "# Creates a population not knowing any previous information\n",
    "# n - dimensionality of output\n",
    "# k - population size\n",
    "def create_population(n, k):\n",
    "    return [[random.random() * 200 - 100 for _ in range(n)] for _ in range(k)]\n",
    "\n",
    "# Creates the next generation of input sets\n",
    "# pop - the old population\n",
    "# scaling - the scaling parameter\n",
    "def create_next_population(pop, scaling = 0.5):\n",
    "    dim = len(pop[0])\n",
    "    n = len(pop)\n",
    "    \n",
    "    newpop = [None] * n\n",
    "    for i in range(n):\n",
    "        a, b = random.randint(0, n-1), random.randint(0, n-1)  # Indices of two random elements\n",
    "        diff = [(pop[a][d] - pop[b][d]) for d in range(dim)]   # Difference of two random input vectors\n",
    "        newpop[i] = [pop[i][d] + diff[d] * scaling for d in range(dim)]  # Mutated input has been created\n",
    "    \n",
    "    return newpop\n",
    "\n",
    "# Just makes a list of evaluation results\n",
    "def calculate_fitness(f, pop):\n",
    "    return [f(inputs) for inputs in pop]\n",
    "\n",
    "# Given a population and fitnesses, returns the best element and its fitness.\n",
    "def getbest(pop, fitnesses):\n",
    "    best, bestfitness = pop[0], fitnesses[0]\n",
    "    for i in range(1, len(fitnesses)):\n",
    "        if fitnesses[i] < bestfitness:\n",
    "            best, bestfitness = pop[i], fitnesses[i]\n",
    "    return best, bestfitness"
   ]
  },
  {
   "cell_type": "markdown",
   "metadata": {},
   "source": [
    "### Testing Goodness of Differential Evolution\n",
    "\n",
    "I expect scipy and diffevo to be pretty close overall."
   ]
  },
  {
   "cell_type": "code",
   "execution_count": null,
   "metadata": {},
   "outputs": [],
   "source": [
    "# Generate a bunch of functions. Use scipy and diff_evo to find optimal solutions.\n",
    "# Arbitrarily choose amount of functions for each dimensionality.\n",
    "functions = 10\n",
    "\n",
    "print('Measuring difference of scipy and diff_evo - the higher, the better, because that means DE works fine...')\n",
    "for dimensions in range(1,5):\n",
    "    print(f'Testing out {dimensions} dimensions...')\n",
    "    for _ in range(functions):\n",
    "        function = quartic_n(dimensions)\n",
    "\n",
    "        sp_ans = minimize(function, [0] * dimensions)\n",
    "        sp_bestval, sp_bestinput = sp_ans.fun, sp_ans.x\n",
    "\n",
    "        de_bestval, de_bestinput = diff_evo(function, dimensions)\n",
    "\n",
    "        print(f'Difference between scipy and diffevo: {sp_bestval - de_bestval}')\n",
    "    print()"
   ]
  }
 ],
 "metadata": {
  "kernelspec": {
   "display_name": "Python 3",
   "language": "python",
   "name": "python3"
  },
  "language_info": {
   "codemirror_mode": {
    "name": "ipython",
    "version": 3
   },
   "file_extension": ".py",
   "mimetype": "text/x-python",
   "name": "python",
   "nbconvert_exporter": "python",
   "pygments_lexer": "ipython3",
   "version": "3.8.5"
  }
 },
 "nbformat": 4,
 "nbformat_minor": 4
}
